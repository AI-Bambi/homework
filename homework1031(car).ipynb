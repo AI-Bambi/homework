{
  "nbformat": 4,
  "nbformat_minor": 0,
  "metadata": {
    "colab": {
      "provenance": []
    },
    "kernelspec": {
      "name": "python3",
      "display_name": "Python 3"
    },
    "language_info": {
      "name": "python"
    }
  },
  "cells": [
    {
      "cell_type": "markdown",
      "source": [
        "・自作プログラム作成車クラス\n",
        "　**目的**: 車のクラスを作成し、クラスのプロパティとメソッドの概念を理解する。\n",
        "\n",
        "　**要件**:\n",
        "　- クラス名: `Car`\n",
        "　- インスタンス変数: `brand`（メーカー）、`model`（モデル）、`year`（年式）、`speed`（速度）\n",
        "　- メソッド:\n",
        "  　- `accelerate()` - 速度を10増やす\n",
        " 　 - `brake()` - 速度を10減らす\n",
        " 　 - `display_info()` - 車の情報を表示\n",
        "\n",
        "　車の台数3台\n",
        "　accelerate, brakeの実行回数をランダム。\n",
        "　最終的に一番速度が速い車を表示。"
      ],
      "metadata": {
        "id": "3jsvgBXFKNfG"
      }
    },
    {
      "cell_type": "code",
      "execution_count": 9,
      "metadata": {
        "colab": {
          "base_uri": "https://localhost:8080/"
        },
        "id": "A6XeW72RrIeM",
        "outputId": "8160318e-5bb6-4520-c345-6ca42edcc099"
      },
      "outputs": [
        {
          "output_type": "stream",
          "name": "stdout",
          "text": [
            "トヨタ製のアクアは2024年発売で速度は40です。\n",
            "ホンダ製のフィットは2022年発売で速度は30です。\n",
            "日産製のリーフは2024年発売で速度は50です。\n",
            "トヨタのアクセルの回数は7回,ブレーキの回数は10で最終的な速度は10です。\n",
            "ホンダのアクセルの回数は2回,ブレーキの回数は0で最終的な速度は50です。\n",
            "日産のアクセルの回数は7回,ブレーキの回数は9で最終的な速度は30です。\n",
            "アクアの最終的な速度は10です。\n",
            "フィットの最終的な速度は50です。\n",
            "リーフの最終的な速度は30です。\n",
            "一番最終的な速度が速かったのはフィットで50です。\n"
          ]
        }
      ],
      "source": [
        "import random\n",
        "import numpy\n",
        "\n",
        "class Car:\n",
        "    def __init__(self):\n",
        "        self.brand=\"\"\n",
        "        self.model=\"\"\n",
        "        self.year=\"\"\n",
        "        self.speed=0\n",
        "        self.max_speed=0 #最大速度\n",
        "        self.change_speed=0 #変化した後の速度\n",
        "        #self.accel_possible=() #アクセルを踏める回数\n",
        "        self.accel_count=0 #アクセルの回数\n",
        "        self.brake_count=0 #ブレーキの回数\n",
        "        #self.change_speed=()\n",
        "        self.result=0\n",
        "\n",
        "\n",
        "    def accelerate_cacl(self):\n",
        "        accel_possible=(self.max_speed - self.speed) // 10\n",
        "        self.accel_count=random.randint(0,accel_possible)\n",
        "        self.change_speed=self.speed+(self.accel_count *10) #add_accelなら3台に同じ数が適用されるがselfを付ければそれぞれの車ごとにランダムな数字を生成する。\n",
        "        return self.change_speed\n",
        "\n",
        "    def brake_cacl(self):\n",
        "        self.brake_count=random.randint(0,self.change_speed/10)\n",
        "        self.result=self.change_speed-(self.brake_count *10)\n",
        "        return self.result\n",
        "\n",
        "    def display_info(self):\n",
        "        return  f\"{self.brand}製の{self.model}は{self.year}年発売で速度は{self.speed}です。\"\n",
        "\n",
        "aqua=Car()\n",
        "fit=Car()\n",
        "leaf=Car()\n",
        "\n",
        "aqua.brand=\"トヨタ\"\n",
        "fit.brand=\"ホンダ\"\n",
        "leaf.brand=\"日産\"\n",
        "\n",
        "aqua.model=\"アクア\" #2WD\n",
        "fit.model=\"フィット\"  #FF\n",
        "leaf.model=\"リーフ\" #2WD\n",
        "\n",
        "aqua.year=\"2024\"\n",
        "fit.year=\"2022\"\n",
        "leaf.year=\"2024\"\n",
        "\n",
        "aqua.speed=(40)\n",
        "fit.speed=(30)\n",
        "leaf.speed=(50)\n",
        "\n",
        "aqua.max_speed=(140)\n",
        "fit.max_speed=(175)\n",
        "leaf.max_speed=(180)\n",
        "\n",
        "print(aqua.display_info())\n",
        "print(fit.display_info())\n",
        "print(leaf.display_info())\n",
        "\n",
        "aqua.accelerate_cacl()\n",
        "fit.accelerate_cacl()\n",
        "leaf.accelerate_cacl()\n",
        "\n",
        "aqua.brake_cacl()\n",
        "fit.brake_cacl()\n",
        "leaf.brake_cacl()\n",
        "\n",
        "result=[aqua.result,fit.result,leaf.result]\n",
        "car_name=[\"アクア\",\"フィット\",\"リーフ\"]\n",
        "most_fast_car=max(result)\n",
        "fastest_car_index=result.index(most_fast_car)\n",
        "faster_car_name=car_name[fastest_car_index]\n",
        "\n",
        "print(f\"{aqua.brand}のアクセルの回数は{aqua.accel_count}回,ブレーキの回数は{aqua.brake_count}で最終的な速度は{aqua.result}です。\")\n",
        "print(f\"{fit.brand}のアクセルの回数は{fit.accel_count}回,ブレーキの回数は{fit.brake_count}で最終的な速度は{fit.result}です。\")\n",
        "print(f\"{leaf.brand}のアクセルの回数は{leaf.accel_count}回,ブレーキの回数は{leaf.brake_count}で最終的な速度は{leaf.result}です。\")\n",
        "\n",
        "print(f\"{aqua.model}の最終的な速度は{aqua.result}です。\")\n",
        "print(f\"{fit.model}の最終的な速度は{fit.result}です。\")\n",
        "print(f\"{leaf.model}の最終的な速度は{leaf.result}です。\")\n",
        "print(f\"一番最終的な速度が速かったのは{faster_car_name}で{most_fast_car}です。\")"
      ]
    }
  ]
}