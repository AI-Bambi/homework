{
  "nbformat": 4,
  "nbformat_minor": 0,
  "metadata": {
    "colab": {
      "provenance": []
    },
    "kernelspec": {
      "name": "python3",
      "display_name": "Python 3"
    },
    "language_info": {
      "name": "python"
    }
  },
  "cells": [
    {
      "cell_type": "markdown",
      "source": [
        "・自作プログラム課題「銀行口座システム」\n",
        "　先週の課題に追加して、振り込み機能のメソッドを追加\n",
        "　メソッド名(引数)を考えてみましょう。\n",
        "　お互いに、振り込み処理を何度か実行してみましょう。\n",
        "\n",
        "　残高が0を下回ったら、「残高不足です」と表示してみましょう。\n",
        "　(ヒント)引き出す処理と振り込み処理のときに判定処理が入るように\n",
        "　マイナスになる場合は実行するか、せずに中断するかどちらにするか考えてみましょう。"
      ],
      "metadata": {
        "id": "urQaouKfDOna"
      }
    },
    {
      "cell_type": "code",
      "source": [
        "#import random\n",
        "\n",
        "class BankAccount:\n",
        "    def __init__(self): #最初の設定(コンストラクタ)は起動時に必ず必要になるものを\n",
        "        self.owner=\"\"\n",
        "        self.balance=0\n",
        "        #self.deposit_amount(deposit)\n",
        "        #self.withdraw_amount(withdraw)\n",
        "\n",
        "    def deposit_amount(self,deposit):\n",
        "        self.balance += deposit\n",
        "        print(f\"{self.owner}は{deposit}円を入金しました。\")\n",
        "\n",
        "    def withdraw_amount(self,withdraw):\n",
        "        self.balance -= withdraw\n",
        "        if self.balance < 0 :\n",
        "            print(f\"{self.owner}は{withdraw}円の引き出しにより{self.balance}円のマイナス残高です。\")\n",
        "        else:\n",
        "            print(f\"{self.owner}は{withdraw}円を引き出しました。\")\n",
        "\n",
        "    def transfer(self,transamount,sender,beneficiary):\n",
        "        if sender.balance < transamount:\n",
        "            print(f\"{sender.owner}は残高不足のため{beneficiary.owner}へ振り込み処理は行えません。\")\n",
        "            #pass\n",
        "        else:\n",
        "            sender.balance -= transamount\n",
        "            beneficiary.balance += transamount\n",
        "            print(f\"{sender.owner}から{beneficiary.owner}に{transamount}円の振り込みが実行されました。\")\n",
        "\n",
        "    def check_balance(self):\n",
        "        print(f\"{self.owner}の残高は{self.balance}円です。\")\n",
        "\n",
        "\n",
        "ayumi=BankAccount()\n",
        "genta=BankAccount()\n",
        "mitsuhiko=BankAccount()\n",
        "\n",
        "ayumi.owner=\"歩美\"\n",
        "genta.owner=\"元太\"\n",
        "mitsuhiko.owner=\"光彦\"\n",
        "\n",
        "ayumi.balance=1000\n",
        "genta.balance=800\n",
        "mitsuhiko.balance=1500\n",
        "\n",
        "ayumi.deposit_amount(400)\n",
        "genta.deposit_amount(500)\n",
        "mitsuhiko.deposit_amount(700)\n",
        "\n",
        "ayumi.withdraw_amount(1500)\n",
        "genta.withdraw_amount(300)\n",
        "mitsuhiko.withdraw_amount(400)\n",
        "\n",
        "ayumi.transfer(100,ayumi,genta)\n",
        "genta.transfer(200,genta,ayumi)\n",
        "mitsuhiko.transfer(500,mitsuhiko,genta)\n",
        "\n",
        "\n",
        "\n",
        "ayumi.check_balance()\n",
        "genta.check_balance()\n",
        "mitsuhiko.check_balance()\n",
        "\n",
        "#print(f\"歩美の残高は{ayumi.balance}円です。\")\n",
        "#print(f\"元太の残高は{genta.balance}円です。\")\n",
        "#print(f\"光彦の残高は{mitsuhiko.balance}円です。\")"
      ],
      "metadata": {
        "colab": {
          "base_uri": "https://localhost:8080/"
        },
        "id": "6wQAs2urDQek",
        "outputId": "193c0402-8797-4fe1-b347-cac1754b7f02"
      },
      "execution_count": 29,
      "outputs": [
        {
          "output_type": "stream",
          "name": "stdout",
          "text": [
            "歩美は400円を入金しました。\n",
            "元太は500円を入金しました。\n",
            "光彦は700円を入金しました。\n",
            "歩美は1500円の引き出しにより-100円のマイナス残高です。\n",
            "元太は300円を引き出しました。\n",
            "光彦は400円を引き出しました。\n",
            "歩美は残高不足のため元太へ振り込み処理は行えません。\n",
            "元太から歩美に200円の振り込みが実行されました。\n",
            "光彦から元太に500円の振り込みが実行されました。\n",
            "歩美の残高は100円です。\n",
            "元太の残高は1300円です。\n",
            "光彦の残高は1300円です。\n"
          ]
        }
      ]
    },
    {
      "cell_type": "code",
      "source": [],
      "metadata": {
        "id": "nSyduMf0QodY"
      },
      "execution_count": null,
      "outputs": []
    }
  ]
}