{
  "nbformat": 4,
  "nbformat_minor": 0,
  "metadata": {
    "colab": {
      "provenance": []
    },
    "kernelspec": {
      "name": "python3",
      "display_name": "Python 3"
    },
    "language_info": {
      "name": "python"
    }
  },
  "cells": [
    {
      "cell_type": "markdown",
      "source": [
        "・自作プログラム作成\n",
        "　→授業で実施した内容(赤色のサイコロの処理)を真似して、青と黄色の処理を追加。\n",
        "　→合計値と、判定処理。"
      ],
      "metadata": {
        "id": "U5COXEIAuTtc"
      }
    },
    {
      "cell_type": "code",
      "execution_count": 13,
      "metadata": {
        "colab": {
          "base_uri": "https://localhost:8080/"
        },
        "id": "sEmvH3nzuSYX",
        "outputId": "c6922c87-cafc-4654-a5b0-26230132056f"
      },
      "outputs": [
        {
          "output_type": "stream",
          "name": "stdout",
          "text": [
            "1回目の赤の出目は1です。\n",
            "1回目の青の出目は4です。\n",
            "1回目の黄色の出目は2です。\n",
            "2回目の赤の出目は1です。\n",
            "2回目の青の出目は3です。\n",
            "2回目の黄色の出目は5です。\n",
            "3回目の赤の出目は2です。\n",
            "3回目の青の出目は1です。\n",
            "3回目の黄色の出目は2です。\n",
            "4回目の赤の出目は5です。\n",
            "4回目の青の出目は2です。\n",
            "4回目の黄色の出目は1です。\n",
            "5回目の赤の出目は4です。\n",
            "5回目の青の出目は4です。\n",
            "5回目の黄色の出目は2です。\n",
            "6回目の赤の出目は6です。\n",
            "6回目の青の出目は3です。\n",
            "6回目の黄色の出目は4です。\n",
            "7回目の赤の出目は5です。\n",
            "7回目の青の出目は3です。\n",
            "7回目の黄色の出目は2です。\n",
            "8回目の赤の出目は6です。\n",
            "8回目の青の出目は6です。\n",
            "8回目の黄色の出目は4です。\n",
            "9回目の赤の出目は1です。\n",
            "9回目の青の出目は5です。\n",
            "9回目の黄色の出目は2です。\n",
            "10回目の赤の出目は1です。\n",
            "10回目の青の出目は1です。\n",
            "10回目の黄色の出目は3です。\n",
            "11回目の赤の出目は6です。\n",
            "11回目の青の出目は6です。\n",
            "11回目の黄色の出目は5です。\n",
            "12回目の赤の出目は4です。\n",
            "12回目の青の出目は5です。\n",
            "12回目の黄色の出目は4です。\n",
            "13回目の赤の出目は3です。\n",
            "13回目の青の出目は3です。\n",
            "13回目の黄色の出目は3です。\n",
            "14回目の赤の出目は1です。\n",
            "14回目の青の出目は5です。\n",
            "14回目の黄色の出目は6です。\n",
            "15回目の赤の出目は2です。\n",
            "15回目の青の出目は1です。\n",
            "15回目の黄色の出目は6です。\n",
            "赤のサイコロの合計は48です。\n",
            "青のサイコロの合計は52です。\n",
            "黄色のサイコロの合計は51です。\n",
            "サイコロの最大値は52で青です。\n"
          ]
        }
      ],
      "source": [
        "from ast import comprehension\n",
        "import random\n",
        "\n",
        "class Dice:\n",
        "    def __init__(self):\n",
        "        self.color=\"\"\n",
        "        self.result = ()  #数値なので()\n",
        "        self.result_list=[]\n",
        "\n",
        "    def roll_dice(self): #クラスの中でメソッドつくるときはself\n",
        "        dice =random.randint(1,6) #1-6までをランダムに引く\n",
        "        return dice\n",
        "\n",
        "dice_red=Dice()\n",
        "dice_blue=Dice()\n",
        "dice_yellow=Dice()\n",
        "\n",
        "dice_red.color=\"赤\" #←直接代入するやり方\n",
        "dice_blue.color=\"青\"\n",
        "dice_yellow.color=\"黄色\"\n",
        "\n",
        "\n",
        "for i in range(15): #繰り返し処理\n",
        "    #print(i+1)  #←で書くのが一般的\n",
        "    dice_red_result=dice_red.roll_dice()\n",
        "    dice_red.result_list.append(dice_red_result)\n",
        "    print(f\"{i+1}回目の{dice_red.color}の出目は{dice_red_result}です。\")\n",
        "\n",
        "    dice_blue_result=dice_blue.roll_dice()\n",
        "    dice_blue.result_list.append(dice_blue_result)\n",
        "    print(f\"{i+1}回目の{dice_blue.color}の出目は{dice_blue_result}です。\")\n",
        "\n",
        "    dice_yellow_result=dice_yellow.roll_dice()\n",
        "    dice_yellow.result_list.append(dice_yellow_result)\n",
        "    print(f\"{i+1}回目の{dice_yellow.color}の出目は{dice_yellow_result}です。\")\n",
        "\n",
        "#合計値を出す処理\n",
        "total_dice_red=sum(dice_red.result_list)\n",
        "total_dice_blue=sum(dice_blue.result_list)\n",
        "total_dice_yellow=sum(dice_yellow.result_list)\n",
        "\n",
        "print(f\"{dice_red.color}のサイコロの合計は{total_dice_red}です。\")\n",
        "print(f\"{dice_blue.color}のサイコロの合計は{total_dice_blue}です。\")\n",
        "print(f\"{dice_yellow.color}のサイコロの合計は{total_dice_yellow}です。\")\n",
        "\n",
        "\n",
        "#compare_dice_total=[total_dice_red,total_dice_blue,total_dice_yellow]\n",
        "#print(f\"サイコロの最大値は{max(compare_dice_total)}です\")\n",
        "\n",
        "#どの色が一番多かったか(if文)\n",
        "if total_dice_red >total_dice_blue:\n",
        "    if total_dice_red>total_dice_yellow:\n",
        "        print(f\"サイコロの最大値は{total_dice_red}で{dice_red.color}です。\")\n",
        "    else:\n",
        "        print(f\"サイコロの最大値は{total_dice_yellow}で{dice_yellow.color}です。\")\n",
        "\n",
        "\n",
        "elif total_dice_blue > total_dice_yellow:\n",
        "    print(f\"サイコロの最大値は{total_dice_blue}で{dice_blue.color}です。\")\n",
        "\n",
        "else:\n",
        "    print(f\"サイコロの最大値は{total_dice_yellow}で{dice_yellow.color}です。\")\n"
      ]
    }
  ]
}