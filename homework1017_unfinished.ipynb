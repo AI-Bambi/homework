{
  "nbformat": 4,
  "nbformat_minor": 0,
  "metadata": {
    "colab": {
      "provenance": []
    },
    "kernelspec": {
      "name": "python3",
      "display_name": "Python 3"
    },
    "language_info": {
      "name": "python"
    }
  },
  "cells": [
    {
      "cell_type": "markdown",
      "source": [
        "・自作プログラム作成\n",
        "　→Productというクラスを作成する。\n",
        "　　→メンバ変数\n",
        "　　　→商品名\n",
        "　　　→価格\n",
        "　　　→カテゴリ★今回は使わない。\n",
        "　　　→在庫数\n",
        "　　→メソッド\n",
        "　　　在庫数を更新する関数\n",
        "　→製品は野球用品、カテゴリは野球、4品をオブジェクトで生成\n",
        "　→とある日の売り上げ管理。売り上げた数をランダムに生成。\n",
        "　→売上高が一番高かった製品をprintで出力する。\n",
        "　　(例：一番売上高が高かったのは○○で、■■円でした。)"
      ],
      "metadata": {
        "id": "iB41RPaPHe2r"
      }
    },
    {
      "cell_type": "code",
      "source": [
        "from ast import comprehension\n",
        "import random\n",
        "\n",
        "class Product:\n",
        "    def __init__(self):\n",
        "        self.goods_name=\"\"\n",
        "        self.price=()\n",
        "        #self.category=\"\"\n",
        "        self.stock=()\n",
        "        self.sales=()\n",
        "\n",
        "    def sell_amount(self):\n",
        "        sell_amount=random.rendint(0,self.stock)\n",
        "        self.sales={sell_amount} * {self.price}\n",
        "\n",
        "\n",
        "ball=Product()\n",
        "glove=Product()\n",
        "bat=Product()\n",
        "uniform=Product()\n",
        "\n",
        "#ball_sales=sell_amount()\n",
        "#glove_sales=glove.sales()\n",
        "#bat_sales=bat.sales()\n",
        "#uniform_sales=uniform.sales()\n",
        "\n",
        "ball.goods_name=\"ボール\"\n",
        "glove.goods_name=\"グローブ\"\n",
        "bat.goods_name=\"バット\"\n",
        "uniform.goods_name=\"ユニフォーム\"\n",
        "\n",
        "ball.stock=20\n",
        "glove.stock=20\n",
        "bat.stock=20\n",
        "uniform.stock=20\n",
        "\n",
        "ball.price=500\n",
        "glove.price=1,000\n",
        "bat.price=2,000\n",
        "uniform.price=4,000\n",
        "\n",
        "#print(ball.sales)\n",
        "\n",
        "while ball.stock == 0:\n",
        "    ball_today_sell=ball.sell_amount()\n",
        "    #ball.stock.append(sell_ball)\n",
        "    #ball_sales={ball.price}*{ball_today_sell}\n",
        "\n",
        "print(f\"今日の{ball.goods_name}の売上は{ball_sales}円です。\")\n"
      ],
      "metadata": {
        "id": "MwY42_2SHhdb",
        "colab": {
          "base_uri": "https://localhost:8080/"
        },
        "outputId": "d258ba6d-40e6-48d5-a690-c4c05a409289"
      },
      "execution_count": 35,
      "outputs": [
        {
          "output_type": "stream",
          "name": "stdout",
          "text": [
            "今日のボールの売上は()円です。\n"
          ]
        }
      ]
    }
  ]
}