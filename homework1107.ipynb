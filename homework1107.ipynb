{
  "nbformat": 4,
  "nbformat_minor": 0,
  "metadata": {
    "colab": {
      "provenance": []
    },
    "kernelspec": {
      "name": "python3",
      "display_name": "Python 3"
    },
    "language_info": {
      "name": "python"
    }
  },
  "cells": [
    {
      "cell_type": "markdown",
      "source": [
        "・自作プログラム課題「銀行口座システム」\n",
        "　→銀行口座の基本的な操作（入金、出金、残高確認）を行うクラスを作成\n",
        "　要件:\n",
        "\n",
        "　クラス名: BankAccount\n",
        "　インスタンス変数: owner（口座所有者の名前）とbalance（残高）\n",
        "　メソッド:\n",
        "　　deposit(amount) - 入金\n",
        "　　withdraw(amount) - 出金\n",
        "　　check_balance() - 残高確認\n",
        "\n",
        "　コナンの少年探偵団のメンバーの入金出金、残高照会を行う。\n",
        "　最終的な記録をprint文で出してみましょう。"
      ],
      "metadata": {
        "id": "NtdB9mrJQSJM"
      }
    },
    {
      "cell_type": "code",
      "source": [
        "#import random\n",
        "\n",
        "class BankAccount:\n",
        "    def __init__(self):\n",
        "        self.owner=\"\"\n",
        "        self.balance=()\n",
        "\n",
        "    def deposit_amount(self):\n",
        "        self.balance=self.balance+1000\n",
        "\n",
        "    def withdraw_amount(self):\n",
        "        self.balance=self.balance - 500\n",
        "\n",
        "    def check_balance(self):\n",
        "        print(f\"{self.owner}の残高は{self.balance}円です。\")\n",
        "\n",
        "ayumi=BankAccount()\n",
        "genta=BankAccount()\n",
        "mitsuhiko=BankAccount()\n",
        "\n",
        "ayumi.owner=\"歩美\"\n",
        "genta.owner=\"元太\"\n",
        "mitsuhiko.owner=\"光彦\"\n",
        "\n",
        "ayumi.balance=(1000)\n",
        "genta.balance=(800)\n",
        "mitsuhiko.balance=(1500)\n",
        "\n",
        "ayumi.deposit_amount()\n",
        "genta.deposit_amount()\n",
        "mitsuhiko.deposit_amount()\n",
        "\n",
        "ayumi.withdraw_amount()\n",
        "genta.withdraw_amount()\n",
        "mitsuhiko.withdraw_amount()\n",
        "\n",
        "ayumi.check_balance()\n",
        "genta.check_balance()\n",
        "mitsuhiko.check_balance()\n",
        "\n",
        "#print(f\"歩美の残高は{ayumi.balance}円です。\")\n",
        "#print(f\"元太の残高は{genta.balance}円です。\")\n",
        "#print(f\"光彦の残高は{mitsuhiko.balance}円です。\")"
      ],
      "metadata": {
        "colab": {
          "base_uri": "https://localhost:8080/"
        },
        "id": "3lbkxbbFM1-L",
        "outputId": "5ef1b58f-07f3-404d-c1a9-5ada97fa01f9"
      },
      "execution_count": 12,
      "outputs": [
        {
          "output_type": "stream",
          "name": "stdout",
          "text": [
            "歩美の残高は1500円です。\n",
            "元太の残高は1300円です。\n",
            "光彦の残高は2000円です。\n"
          ]
        }
      ]
    }
  ]
}