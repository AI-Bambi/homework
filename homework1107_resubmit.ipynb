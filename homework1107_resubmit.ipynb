{
  "nbformat": 4,
  "nbformat_minor": 0,
  "metadata": {
    "colab": {
      "provenance": []
    },
    "kernelspec": {
      "name": "python3",
      "display_name": "Python 3"
    },
    "language_info": {
      "name": "python"
    }
  },
  "cells": [
    {
      "cell_type": "markdown",
      "source": [
        "・自作プログラム課題「銀行口座システム」\n",
        "　→銀行口座の基本的な操作（入金、出金、残高確認）を行うクラスを作成\n",
        "　要件:\n",
        "\n",
        "　クラス名: BankAccount\n",
        "　インスタンス変数: owner（口座所有者の名前）とbalance（残高）\n",
        "　メソッド:\n",
        "　　deposit(amount) - 入金\n",
        "　　withdraw(amount) - 出金\n",
        "　　check_balance() - 残高確認\n",
        "\n",
        "　コナンの少年探偵団のメンバーの入金出金、残高照会を行う。\n",
        "　最終的な記録をprint文で出してみましょう。"
      ],
      "metadata": {
        "id": "NtdB9mrJQSJM"
      }
    },
    {
      "cell_type": "code",
      "source": [
        "#import random\n",
        "\n",
        "class BankAccount:\n",
        "    def __init__(self):\n",
        "        self.owner=\"\"\n",
        "        self.balance=0\n",
        "        #self.deposit_amount(deposit)\n",
        "        #self.withdraw_amount(withdraw)\n",
        "\n",
        "    def deposit_amount(self,deposit):\n",
        "        self.balance += deposit\n",
        "\n",
        "    def withdraw_amount(self,withdraw):\n",
        "        self.balance -= withdraw\n",
        "\n",
        "    def check_balance(self):\n",
        "        print(f\"{self.owner}の残高は{self.balance}円です。\")\n",
        "\n",
        "ayumi=BankAccount()\n",
        "genta=BankAccount()\n",
        "mitsuhiko=BankAccount()\n",
        "\n",
        "ayumi.owner=\"歩美\"\n",
        "genta.owner=\"元太\"\n",
        "mitsuhiko.owner=\"光彦\"\n",
        "\n",
        "ayumi.balance=1000\n",
        "genta.balance=800\n",
        "mitsuhiko.balance=1500\n",
        "\n",
        "ayumi.deposit_amount(400)\n",
        "genta.deposit_amount(500)\n",
        "mitsuhiko.deposit_amount(700)\n",
        "\n",
        "ayumi.withdraw_amount(500)\n",
        "genta.withdraw_amount(300)\n",
        "mitsuhiko.withdraw_amount(400)\n",
        "\n",
        "ayumi.check_balance()\n",
        "genta.check_balance()\n",
        "mitsuhiko.check_balance()\n",
        "\n",
        "#print(f\"歩美の残高は{ayumi.balance}円です。\")\n",
        "#print(f\"元太の残高は{genta.balance}円です。\")\n",
        "#print(f\"光彦の残高は{mitsuhiko.balance}円です。\")"
      ],
      "metadata": {
        "colab": {
          "base_uri": "https://localhost:8080/"
        },
        "id": "3lbkxbbFM1-L",
        "outputId": "1bdba2d7-dd66-4dab-8cb9-c904775e6129"
      },
      "execution_count": 2,
      "outputs": [
        {
          "output_type": "stream",
          "name": "stdout",
          "text": [
            "歩美の残高は900円です。\n",
            "元太の残高は1000円です。\n",
            "光彦の残高は1800円です。\n"
          ]
        }
      ]
    }
  ]
}