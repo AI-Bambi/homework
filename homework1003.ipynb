{
  "nbformat": 4,
  "nbformat_minor": 0,
  "metadata": {
    "colab": {
      "provenance": []
    },
    "kernelspec": {
      "name": "python3",
      "display_name": "Python 3"
    },
    "language_info": {
      "name": "python"
    }
  },
  "cells": [
    {
      "cell_type": "markdown",
      "source": [
        "自作プログラム作成\n",
        "　→サイコロプログラムをオブジェクト化する\n",
        "　　→diceというクラスを作る\n",
        "　　　→サイコロを振る関数\n",
        "　　　→サイコロの色情報を持つ変数\n",
        "　　　→合計値を保存する変数\n",
        "　　　→15回分の結果を入れるリスト\n",
        "　　→色は3色\n",
        "　　→最後に色ごとの合計値を表示して、何色が一番高い点かを判定。"
      ],
      "metadata": {
        "id": "ztDkq2I4P_Ak"
      }
    },
    {
      "cell_type": "code",
      "source": [
        "import random\n",
        "\n",
        "class Dice:\n",
        "    result_dice=[]\n",
        "    result_color=[]\n",
        "    red_dice=[]\n",
        "    blue_dice=[]\n",
        "    yellow_dice=[]\n",
        "    dice_color=[]\n",
        "    all_dice=[]\n",
        "\n",
        "    def __init__(self,roll_dice,dice_color,red_dice,blue_dice,yellow_dice):\n",
        "        self.roll_dice = roll_dice\n",
        "        self.dice_color=dice_color\n",
        "        self.red_dice=[]\n",
        "        self.blue_dice=[]\n",
        "        self.yellow_dice=[]\n",
        "\n",
        "    def roll_dice():\n",
        "        dice =random.randint(1,6) #1-6までをランダムに引く\n",
        "        return dice\n",
        "\n",
        "    for i in range(1,16): #繰り返し処理\n",
        "        dice=roll_dice()\n",
        "        color_list=[\"赤\",\"青\",\"黄色\"]\n",
        "        color=random.choice(color_list)\n",
        "        result_dice.append(dice)\n",
        "        result_color.append(color)\n",
        "        print(f\"{i}回目の出目は{dice}で{color}です。\")\n",
        "\n",
        "        if color == \"赤\":\n",
        "            red_dice.append(dice)\n",
        "            #dice_color.add(\"赤\")\n",
        "            #print(f\"{i}回目の色は{color}です。\")\n",
        "\n",
        "        elif color == \"青\":\n",
        "            blue_dice.append(dice)\n",
        "            #dice_color.add(\"青\")\n",
        "            #print(f\"{i}回目の色は{color}です。\")\n",
        "\n",
        "        elif color ==\"黄色\":\n",
        "            yellow_dice.append(dice)\n",
        "            #dice_color.add(\"黄色\")\n",
        "            #print(f\"{i}回目の色は{color}です。\")\n",
        "\n",
        "    total=sum(result_dice)\n",
        "    red_total=sum(red_dice)\n",
        "    blue_total=sum(blue_dice)\n",
        "    yellow_total=sum(yellow_dice)\n",
        "\n",
        "    print(f\"赤の合計は{red_total}です。\")\n",
        "    print(f\"青の合計は{blue_total}です。\")\n",
        "    print(f\"黄色の合計は{yellow_total}です。\")\n",
        "    #print(f\"合計は{total}で合計が最大の色は{max(all_dice)}です。\")\n",
        "\n",
        "\n",
        "\n",
        "\n"
      ],
      "metadata": {
        "colab": {
          "base_uri": "https://localhost:8080/"
        },
        "id": "SwHz88xIP-qW",
        "outputId": "2ddc3626-6b4d-4aed-e6cb-0b3eabc7c2c8"
      },
      "execution_count": 220,
      "outputs": [
        {
          "output_type": "stream",
          "name": "stdout",
          "text": [
            "1回目の出目は3で黄色です。\n",
            "2回目の出目は2で青です。\n",
            "3回目の出目は4で黄色です。\n",
            "4回目の出目は5で赤です。\n",
            "5回目の出目は1で青です。\n",
            "6回目の出目は2で赤です。\n",
            "7回目の出目は1で黄色です。\n",
            "8回目の出目は1で黄色です。\n",
            "9回目の出目は5で黄色です。\n",
            "10回目の出目は6で黄色です。\n",
            "11回目の出目は3で赤です。\n",
            "12回目の出目は3で赤です。\n",
            "13回目の出目は2で黄色です。\n",
            "14回目の出目は6で赤です。\n",
            "15回目の出目は1で赤です。\n",
            "赤の合計は20です。\n",
            "青の合計は3です。\n",
            "黄色の合計は22です。\n"
          ]
        }
      ]
    },
    {
      "cell_type": "code",
      "execution_count": null,
      "metadata": {
        "id": "Gj5Db8V_P3xK"
      },
      "outputs": [],
      "source": [
        "import random\n",
        "\n",
        "result_dice = []\n",
        "\n",
        "def roll_dice():\n",
        "    dice =random.randint(1,6)\n",
        "    return dice\n",
        "\n",
        "for i in range(1,16):\n",
        "    #dice =random.randint(1,6)\n",
        "    dice=roll_dice()\n",
        "    result_dice.append(dice)\n",
        "    print(f\"{i}回目の出目は{dice}です。\")\n",
        "\n",
        "    if i ==15:\n",
        "       continue\n",
        "\n",
        "\n",
        "total = sum(result_dice)\n",
        "\n",
        "\n",
        "print(f\"合計は{total}です。\")\n",
        "\n",
        "\n",
        "\n",
        "if total > 60:\n",
        "    print(f\"高得点です！\")\n",
        "else:\n",
        "    print(\"残念。高得点ではありませんでした。。\")\n"
      ]
    },
    {
      "cell_type": "markdown",
      "source": [],
      "metadata": {
        "id": "nf0adEJXP5we"
      }
    }
  ]
}