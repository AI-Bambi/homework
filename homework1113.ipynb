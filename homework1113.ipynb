{
  "nbformat": 4,
  "nbformat_minor": 0,
  "metadata": {
    "colab": {
      "provenance": []
    },
    "kernelspec": {
      "name": "python3",
      "display_name": "Python 3"
    },
    "language_info": {
      "name": "python"
    }
  },
  "cells": [
    {
      "cell_type": "markdown",
      "source": [
        "1 1から10までの整数の配列を作成し、それを表示する。\n",
        "2 1から10までの整数の配列の平均、合計、標準偏差を計算する。\n",
        "3 配列の中から、偶数の要素だけを抽出して新しい配列として表示する。\n",
        "4 5x5のランダムな数値の行列を作成し、転置した行列も表示する。"
      ],
      "metadata": {
        "id": "UN4L-M4-ZYkJ"
      }
    },
    {
      "cell_type": "code",
      "source": [
        "import numpy as np\n",
        "import random\n",
        "import pandas as pd\n",
        "\n",
        "x=np.arange(1,11)\n",
        "print(x)\n",
        "print(np.average(x))\n",
        "print(sum(x))\n",
        "print(np.std(x))\n",
        "\n",
        "y=x[x %2 == 0]\n",
        "print(y)\n",
        "\n",
        "z=np.random.randint(1,10,size=(5,5))\n",
        "z_df=pd.DataFrame(z)\n",
        "\n",
        "print(z_df.to_string(index=False,header=False))"
      ],
      "metadata": {
        "colab": {
          "base_uri": "https://localhost:8080/"
        },
        "id": "VxyMuKWoZdYp",
        "outputId": "520b4ba7-c27d-4568-baef-b6a0456737ee"
      },
      "execution_count": 26,
      "outputs": [
        {
          "output_type": "stream",
          "name": "stdout",
          "text": [
            "[ 1  2  3  4  5  6  7  8  9 10]\n",
            "5.5\n",
            "55\n",
            "2.8722813232690143\n",
            "[ 2  4  6  8 10]\n",
            "4 2 8 2 1\n",
            "5 4 9 9 7\n",
            "9 6 7 1 5\n",
            "7 6 4 2 5\n",
            "9 6 2 5 1\n"
          ]
        }
      ]
    }
  ]
}