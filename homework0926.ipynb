{
  "nbformat": 4,
  "nbformat_minor": 0,
  "metadata": {
    "colab": {
      "provenance": []
    },
    "kernelspec": {
      "name": "python3",
      "display_name": "Python 3"
    },
    "language_info": {
      "name": "python"
    }
  },
  "cells": [
    {
      "cell_type": "markdown",
      "source": [
        "・自作プログラム作成\n",
        "　サイコロを1かい振る関数(1から6という数字をランダムに出す)。\n",
        "　↑の関数を繰り返し文で15実行する処理と、文字出力(例：〇回目の出目は◆でした。)\n",
        "　15回分の結果をリストに入れる。\n",
        "　15回分の出力の合計値を出力して、条件分岐で〇点以上だったら「高得点です！」と表示"
      ],
      "metadata": {
        "id": "P4MBpmHuKc3K"
      }
    },
    {
      "cell_type": "markdown",
      "source": [],
      "metadata": {
        "id": "du-c69eyYvwK"
      }
    },
    {
      "cell_type": "code",
      "source": [
        "import random\n",
        "\n",
        "result_dice = []\n",
        "\n",
        "for i in range(1,16):\n",
        "    dice =random.randint(1,6)\n",
        "    result_dice.append(dice)\n",
        "    print(f\"{i}回目の出目は{dice}です。\")\n",
        "\n",
        "    if i ==15:\n",
        "        continue\n",
        "\n",
        "total = sum(result_dice)\n",
        "\n",
        "print(f\"合計は{total}です。\")\n",
        "\n",
        "if total > 60:\n",
        "    print(f\"高得点です！\")\n",
        "else:\n",
        "    print(\"残念。高得点ではありませんでした。。\")"
      ],
      "metadata": {
        "colab": {
          "base_uri": "https://localhost:8080/"
        },
        "id": "GeHwm1XgKfht",
        "outputId": "cd6fdd5e-dc23-4917-de07-293433064fe3"
      },
      "execution_count": 11,
      "outputs": [
        {
          "output_type": "stream",
          "name": "stdout",
          "text": [
            "1回目の出目は5です。\n",
            "2回目の出目は3です。\n",
            "3回目の出目は2です。\n",
            "4回目の出目は3です。\n",
            "5回目の出目は4です。\n",
            "6回目の出目は3です。\n",
            "7回目の出目は5です。\n",
            "8回目の出目は6です。\n",
            "9回目の出目は2です。\n",
            "10回目の出目は2です。\n",
            "11回目の出目は2です。\n",
            "12回目の出目は4です。\n",
            "13回目の出目は2です。\n",
            "14回目の出目は4です。\n",
            "15回目の出目は6です。\n",
            "合計は53です。\n",
            "残念。高得点ではありませんでした。。\n"
          ]
        }
      ]
    },
    {
      "cell_type": "markdown",
      "source": [
        "6の目がでるまでサイコロを振る"
      ],
      "metadata": {
        "id": "0D7pfIAEcEr9"
      }
    },
    {
      "cell_type": "code",
      "source": [
        "import random\n",
        "\n",
        "dice = random.randint(1,6)\n",
        "\n",
        "i = 1\n",
        "\n",
        "result_dice = []\n",
        "\n",
        "while dice != 6:\n",
        "    dice =random.randint(1,6)\n",
        "    result_dice.append(dice)\n",
        "    print(f\"{i}回目の出目は{dice}です。\")\n",
        "    i = i +1\n",
        "\n",
        "total = sum(result_dice)\n",
        "\n",
        "print(f\"合計は{total}です。\")\n",
        "\n",
        "if total > 20:\n",
        "    print(f\"高得点です！\")"
      ],
      "metadata": {
        "colab": {
          "base_uri": "https://localhost:8080/"
        },
        "id": "mmoX3FvWa-24",
        "outputId": "d24c01e0-f616-409a-f491-09819e770a24"
      },
      "execution_count": 28,
      "outputs": [
        {
          "output_type": "stream",
          "name": "stdout",
          "text": [
            "1回目の出目は3です。\n",
            "2回目の出目は3です。\n",
            "3回目の出目は4です。\n",
            "4回目の出目は3です。\n",
            "5回目の出目は4です。\n",
            "6回目の出目は4です。\n",
            "7回目の出目は6です。\n",
            "合計は27です。\n",
            "高得点です！\n"
          ]
        }
      ]
    }
  ]
}