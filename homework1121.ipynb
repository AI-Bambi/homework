{
  "nbformat": 4,
  "nbformat_minor": 0,
  "metadata": {
    "colab": {
      "provenance": []
    },
    "kernelspec": {
      "name": "python3",
      "display_name": "Python 3"
    },
    "language_info": {
      "name": "python"
    }
  },
  "cells": [
    {
      "cell_type": "markdown",
      "source": [
        "・for文とWhile文の違いが理解できる課題\n",
        "　・以下の処理をfor文とWhile文両方で実施してみましょう。\n",
        "　　①数字を0～15までカウントアップして、表示する。\n",
        "　　②0～10のランダムな値を生成し5が出るか、10回実行したら終了する\n",
        "　　③文字を入れたリストからランダムに引き、一致するまで実施する。\n",
        "　　　リストの中身→「大吉、中吉、吉、小吉、末吉、凶、大凶」\n",
        "　　　ランダムにおみくじを引いて、大吉が出るか、10回実行するまで実施する。\n",
        "　　④(余裕があったら)②、③の処理の10回の縛りを取り除いて、成立するまで実行するように変更する"
      ],
      "metadata": {
        "id": "xBruB850xmyo"
      }
    },
    {
      "cell_type": "code",
      "source": [
        "#for①\n",
        "print(\"for①\")\n",
        "i =1\n",
        "for i in range(0,16):\n",
        "    i+1\n",
        "\n",
        "    print(i)\n",
        "\n",
        "#while①\n",
        "print(\"while①\")\n",
        "num=0\n",
        "while num <=15:\n",
        "    print(num)\n",
        "    num += 1\n"
      ],
      "metadata": {
        "colab": {
          "base_uri": "https://localhost:8080/"
        },
        "id": "XOp5IuH_xp58",
        "outputId": "d2ff8784-7fdf-4093-fb7c-abc57b6e85a4"
      },
      "execution_count": null,
      "outputs": [
        {
          "output_type": "stream",
          "name": "stdout",
          "text": [
            "for①\n",
            "0\n",
            "1\n",
            "2\n",
            "3\n",
            "4\n",
            "5\n",
            "6\n",
            "7\n",
            "8\n",
            "9\n",
            "10\n",
            "11\n",
            "12\n",
            "13\n",
            "14\n",
            "15\n",
            "while①\n",
            "0\n",
            "1\n",
            "2\n",
            "3\n",
            "4\n",
            "5\n",
            "6\n",
            "7\n",
            "8\n",
            "9\n",
            "10\n",
            "11\n",
            "12\n",
            "13\n",
            "14\n",
            "15\n"
          ]
        }
      ]
    },
    {
      "cell_type": "code",
      "source": [
        "import random\n",
        "\n",
        "print(\"for②\")\n",
        "for i in range(1,11):\n",
        "    num=random.randint(1,10)\n",
        "    print(f\"{i}回目の結果は{num}です。\")\n",
        "\n",
        "    if num ==5:\n",
        "        print(\"5が出たので繰り返し処理を終了します。\")\n",
        "        break\n",
        "\n",
        "print(\"while②\")\n",
        "num=random.randint(1,10)\n",
        "i=1\n",
        "#print(f\"1回目の結果は{num}です。\")\n",
        "while num !=5:\n",
        "    num=random.randint(1,10)\n",
        "    print(f\"{i}回目の結果は{num}です。\")\n",
        "    i+=1\n",
        "    if i==10:\n",
        "        print(f\"10回目の結果は{num}です。\")\n",
        "        print(\"10回目なので繰り返し処理を終了します。\")\n",
        "        break\n",
        "    if num ==5:\n",
        "        print(f\"5が出たので繰り返し処理を終了します。\")\n",
        "\n"
      ],
      "metadata": {
        "colab": {
          "base_uri": "https://localhost:8080/"
        },
        "id": "MTgXfWji0cDg",
        "outputId": "5ad3df7e-0df7-4b4d-ab8a-36ec960c7e31"
      },
      "execution_count": null,
      "outputs": [
        {
          "output_type": "stream",
          "name": "stdout",
          "text": [
            "for②\n",
            "1回目の結果は5です。\n",
            "5が出たので繰り返し処理を終了します。\n",
            "while②\n",
            "1回目の結果は4です。\n",
            "2回目の結果は7です。\n",
            "3回目の結果は5です。\n",
            "5が出たので繰り返し処理を終了します。\n"
          ]
        }
      ]
    },
    {
      "cell_type": "code",
      "source": [
        "import random\n",
        "\n",
        "omikuji=[\"大吉\",\"中吉\",\"吉\",\"小吉\",\"末吉\",\"凶\",\"大凶\"]\n",
        "print(\"for③\")\n",
        "for i in range(1,11):\n",
        "    for_result=random.choice(omikuji)\n",
        "    print(f\"{i}回目の結果は{for_result}です。\")\n",
        "    if for_result==\"大吉\":\n",
        "        print(f\"大吉が出たので繰り返し処理を終了します。\")\n",
        "        break\n",
        "    if i==10:\n",
        "       print(\"10回実行したので繰り返し処理を終了します。\")\n",
        "\n"
      ],
      "metadata": {
        "id": "u31iBmHn0cSD",
        "colab": {
          "base_uri": "https://localhost:8080/"
        },
        "outputId": "4809673c-73e8-4d1f-a4a6-08fbad5122fb"
      },
      "execution_count": 34,
      "outputs": [
        {
          "output_type": "stream",
          "name": "stdout",
          "text": [
            "for③\n",
            "1回目の結果は大凶です。\n",
            "2回目の結果は小吉です。\n",
            "3回目の結果は大凶です。\n",
            "4回目の結果は末吉です。\n",
            "5回目の結果は吉です。\n",
            "6回目の結果は大吉です。\n",
            "大吉が出たので繰り返し処理を終了します。\n"
          ]
        }
      ]
    },
    {
      "cell_type": "code",
      "source": [
        "import random\n",
        "print(\"while③\")\n",
        "omikuji=[\"大吉\",\"中吉\",\"吉\",\"小吉\",\"末吉\",\"凶\",\"大凶\"]\n",
        "count=1\n",
        "while count<11:\n",
        "    result=random.choice(omikuji)\n",
        "    print(f\"{count}回目の結果は{result}です。\")\n",
        "    count+=1\n",
        "    if result==\"大吉\" :\n",
        "        print(f\"大吉が出たので繰り返し処理を終了します。\")\n",
        "        break"
      ],
      "metadata": {
        "colab": {
          "base_uri": "https://localhost:8080/"
        },
        "id": "vBj9OJ5ts7kK",
        "outputId": "e39479fb-9ffb-4786-8929-5af8ec21b3b0"
      },
      "execution_count": 61,
      "outputs": [
        {
          "output_type": "stream",
          "name": "stdout",
          "text": [
            "while③\n",
            "1回目の結果は大凶です。\n",
            "2回目の結果は小吉です。\n",
            "3回目の結果は小吉です。\n",
            "4回目の結果は中吉です。\n",
            "5回目の結果は大凶です。\n",
            "6回目の結果は小吉です。\n",
            "7回目の結果は中吉です。\n",
            "8回目の結果は末吉です。\n",
            "9回目の結果は大吉です。\n",
            "大吉が出たので繰り返し処理を終了します。\n"
          ]
        }
      ]
    },
    {
      "cell_type": "code",
      "source": [
        "import random\n",
        "\n",
        "omikuji=[\"大吉\",\"中吉\",\"吉\",\"小吉\",\"末吉\",\"凶\",\"大凶\"]\n",
        "print(\"for④\")"
      ],
      "metadata": {
        "id": "G3u2xqzI5Rf6"
      },
      "execution_count": null,
      "outputs": []
    },
    {
      "cell_type": "code",
      "source": [
        "import random\n",
        "\n",
        "omikuji=[\"大吉\",\"中吉\",\"吉\",\"小吉\",\"末吉\",\"凶\",\"大凶\"]\n",
        "result=random.choice(omikuji)\n",
        "print(\"while④\")\n",
        "count=1\n",
        "print(f\"1回目の結果は{result}です。\")\n",
        "while result !=\"大吉\":\n",
        "    result=random.choice(omikuji)\n",
        "    count+=1\n",
        "    print(f\"{count}回目の結果は{result}です\")"
      ],
      "metadata": {
        "colab": {
          "base_uri": "https://localhost:8080/"
        },
        "id": "VVUElcgS7FWj",
        "outputId": "00fe95b6-b1d3-4b85-e396-89810b78b327"
      },
      "execution_count": 91,
      "outputs": [
        {
          "output_type": "stream",
          "name": "stdout",
          "text": [
            "while④\n",
            "1回目の結果は吉です。\n",
            "2回目の結果は大凶です\n",
            "3回目の結果は大凶です\n",
            "4回目の結果は末吉です\n",
            "5回目の結果は大凶です\n",
            "6回目の結果は中吉です\n",
            "7回目の結果は大吉です\n"
          ]
        }
      ]
    },
    {
      "cell_type": "code",
      "source": [
        "import random\n",
        "\n",
        "omikuji=[\"大吉\",\"中吉\",\"吉\",\"小吉\",\"末吉\",\"凶\",\"大凶\"]\n",
        "for index,result in enumerate(omikuji): #回数指定しないで条件を満たす方法は大きい数字を設定する以外見つけられませんでした\n",
        "    result=random.choice(omikuji)\n",
        "    print(f\"{index+1}回目の結果は{result}です。\")\n",
        "    index +=1\n",
        "    if result==\"大吉\":\n",
        "        print(\"大吉が出たので繰り返し処理を終了します。\")\n",
        "        break"
      ],
      "metadata": {
        "colab": {
          "base_uri": "https://localhost:8080/"
        },
        "id": "F1SGyiIn9JW9",
        "outputId": "5dff41c1-3fbf-464f-d18c-16d8e8106fd4"
      },
      "execution_count": 167,
      "outputs": [
        {
          "output_type": "stream",
          "name": "stdout",
          "text": [
            "1回目の結果は大吉です。\n",
            "大吉が出たので繰り返し処理を終了します。\n"
          ]
        }
      ]
    }
  ]
}